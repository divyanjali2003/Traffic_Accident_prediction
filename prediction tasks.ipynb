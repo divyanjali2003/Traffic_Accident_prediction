{
 "cells": [
  {
   "cell_type": "code",
   "execution_count": 1,
   "id": "ebe3091d-1655-4f54-9b04-fdb0b0637a59",
   "metadata": {},
   "outputs": [],
   "source": [
    "import pandas as pd\n",
    "import numpy as np\n",
    "import matplotlib.pyplot as plt\n",
    "from sklearn.cluster import KMeans\n",
    "from sklearn.preprocessing import StandardScaler"
   ]
  },
  {
   "cell_type": "code",
   "execution_count": 3,
   "id": "3af5c141-f341-4a97-b967-ff309c201236",
   "metadata": {},
   "outputs": [],
   "source": [
    "df=pd.read_csv(\"traffic_hotspot_prediction.csv\")"
   ]
  },
  {
   "cell_type": "code",
   "execution_count": 5,
   "id": "a7f4dab3-49bd-4566-8ae6-d5a2dacd9c82",
   "metadata": {},
   "outputs": [
    {
     "data": {
      "text/html": [
       "<div>\n",
       "<style scoped>\n",
       "    .dataframe tbody tr th:only-of-type {\n",
       "        vertical-align: middle;\n",
       "    }\n",
       "\n",
       "    .dataframe tbody tr th {\n",
       "        vertical-align: top;\n",
       "    }\n",
       "\n",
       "    .dataframe thead th {\n",
       "        text-align: right;\n",
       "    }\n",
       "</style>\n",
       "<table border=\"1\" class=\"dataframe\">\n",
       "  <thead>\n",
       "    <tr style=\"text-align: right;\">\n",
       "      <th></th>\n",
       "      <th>Latitude</th>\n",
       "      <th>Longitude</th>\n",
       "      <th>City</th>\n",
       "      <th>State</th>\n",
       "      <th>Date</th>\n",
       "      <th>Time</th>\n",
       "      <th>Severity</th>\n",
       "      <th>Temperature_C</th>\n",
       "      <th>Weather</th>\n",
       "      <th>Visibility_km</th>\n",
       "      <th>Road_Type</th>\n",
       "      <th>Lighting</th>\n",
       "      <th>Speed_Limit_kmh</th>\n",
       "    </tr>\n",
       "  </thead>\n",
       "  <tbody>\n",
       "    <tr>\n",
       "      <th>0</th>\n",
       "      <td>40.643696</td>\n",
       "      <td>-74.069726</td>\n",
       "      <td>New York</td>\n",
       "      <td>NY</td>\n",
       "      <td>2024-11-27</td>\n",
       "      <td>09:21:53</td>\n",
       "      <td>Fatal</td>\n",
       "      <td>11.7</td>\n",
       "      <td>Cloudy</td>\n",
       "      <td>2.4</td>\n",
       "      <td>Urban Road</td>\n",
       "      <td>Dusk</td>\n",
       "      <td>59</td>\n",
       "    </tr>\n",
       "    <tr>\n",
       "      <th>1</th>\n",
       "      <td>40.750218</td>\n",
       "      <td>-74.120769</td>\n",
       "      <td>New York</td>\n",
       "      <td>NY</td>\n",
       "      <td>2024-07-18</td>\n",
       "      <td>18:34:33</td>\n",
       "      <td>Minor</td>\n",
       "      <td>27.2</td>\n",
       "      <td>Clear</td>\n",
       "      <td>1.9</td>\n",
       "      <td>Residential Street</td>\n",
       "      <td>Dusk</td>\n",
       "      <td>46</td>\n",
       "    </tr>\n",
       "    <tr>\n",
       "      <th>2</th>\n",
       "      <td>40.528819</td>\n",
       "      <td>-73.714758</td>\n",
       "      <td>New York</td>\n",
       "      <td>NY</td>\n",
       "      <td>2024-07-27</td>\n",
       "      <td>19:02:58</td>\n",
       "      <td>Fatal</td>\n",
       "      <td>13.6</td>\n",
       "      <td>Clear</td>\n",
       "      <td>9.8</td>\n",
       "      <td>Highway</td>\n",
       "      <td>Daylight</td>\n",
       "      <td>57</td>\n",
       "    </tr>\n",
       "    <tr>\n",
       "      <th>3</th>\n",
       "      <td>40.728429</td>\n",
       "      <td>-73.958476</td>\n",
       "      <td>New York</td>\n",
       "      <td>NY</td>\n",
       "      <td>2024-02-09</td>\n",
       "      <td>13:12:29</td>\n",
       "      <td>Minor</td>\n",
       "      <td>13.8</td>\n",
       "      <td>Clear</td>\n",
       "      <td>5.8</td>\n",
       "      <td>Highway</td>\n",
       "      <td>Daylight</td>\n",
       "      <td>64</td>\n",
       "    </tr>\n",
       "    <tr>\n",
       "      <th>4</th>\n",
       "      <td>40.602333</td>\n",
       "      <td>-73.703020</td>\n",
       "      <td>New York</td>\n",
       "      <td>NY</td>\n",
       "      <td>2024-05-04</td>\n",
       "      <td>14:04:42</td>\n",
       "      <td>Fatal</td>\n",
       "      <td>6.4</td>\n",
       "      <td>Snow</td>\n",
       "      <td>0.2</td>\n",
       "      <td>Residential Street</td>\n",
       "      <td>Dawn</td>\n",
       "      <td>34</td>\n",
       "    </tr>\n",
       "    <tr>\n",
       "      <th>...</th>\n",
       "      <td>...</td>\n",
       "      <td>...</td>\n",
       "      <td>...</td>\n",
       "      <td>...</td>\n",
       "      <td>...</td>\n",
       "      <td>...</td>\n",
       "      <td>...</td>\n",
       "      <td>...</td>\n",
       "      <td>...</td>\n",
       "      <td>...</td>\n",
       "      <td>...</td>\n",
       "      <td>...</td>\n",
       "      <td>...</td>\n",
       "    </tr>\n",
       "    <tr>\n",
       "      <th>995</th>\n",
       "      <td>40.620457</td>\n",
       "      <td>-73.785646</td>\n",
       "      <td>New York</td>\n",
       "      <td>NY</td>\n",
       "      <td>2024-01-18</td>\n",
       "      <td>04:33:07</td>\n",
       "      <td>Major</td>\n",
       "      <td>34.0</td>\n",
       "      <td>Snow</td>\n",
       "      <td>4.3</td>\n",
       "      <td>Residential Street</td>\n",
       "      <td>Dawn</td>\n",
       "      <td>45</td>\n",
       "    </tr>\n",
       "    <tr>\n",
       "      <th>996</th>\n",
       "      <td>40.659952</td>\n",
       "      <td>-73.785069</td>\n",
       "      <td>New York</td>\n",
       "      <td>NY</td>\n",
       "      <td>2024-07-29</td>\n",
       "      <td>01:30:26</td>\n",
       "      <td>Major</td>\n",
       "      <td>18.2</td>\n",
       "      <td>Rain</td>\n",
       "      <td>7.4</td>\n",
       "      <td>Intersection</td>\n",
       "      <td>Daylight</td>\n",
       "      <td>58</td>\n",
       "    </tr>\n",
       "    <tr>\n",
       "      <th>997</th>\n",
       "      <td>40.616832</td>\n",
       "      <td>-74.062932</td>\n",
       "      <td>New York</td>\n",
       "      <td>NY</td>\n",
       "      <td>2024-03-27</td>\n",
       "      <td>23:10:32</td>\n",
       "      <td>Fatal</td>\n",
       "      <td>12.2</td>\n",
       "      <td>Cloudy</td>\n",
       "      <td>1.9</td>\n",
       "      <td>Highway</td>\n",
       "      <td>Night</td>\n",
       "      <td>40</td>\n",
       "    </tr>\n",
       "    <tr>\n",
       "      <th>998</th>\n",
       "      <td>40.552479</td>\n",
       "      <td>-74.036781</td>\n",
       "      <td>New York</td>\n",
       "      <td>NY</td>\n",
       "      <td>2024-01-20</td>\n",
       "      <td>20:08:57</td>\n",
       "      <td>Major</td>\n",
       "      <td>1.4</td>\n",
       "      <td>Cloudy</td>\n",
       "      <td>9.9</td>\n",
       "      <td>Residential Street</td>\n",
       "      <td>Daylight</td>\n",
       "      <td>38</td>\n",
       "    </tr>\n",
       "    <tr>\n",
       "      <th>999</th>\n",
       "      <td>40.727479</td>\n",
       "      <td>-74.020570</td>\n",
       "      <td>New York</td>\n",
       "      <td>NY</td>\n",
       "      <td>2024-09-09</td>\n",
       "      <td>08:05:21</td>\n",
       "      <td>Minor</td>\n",
       "      <td>-0.5</td>\n",
       "      <td>Snow</td>\n",
       "      <td>2.2</td>\n",
       "      <td>Highway</td>\n",
       "      <td>Dawn</td>\n",
       "      <td>46</td>\n",
       "    </tr>\n",
       "  </tbody>\n",
       "</table>\n",
       "<p>1000 rows × 13 columns</p>\n",
       "</div>"
      ],
      "text/plain": [
       "      Latitude  Longitude      City State        Date      Time Severity  \\\n",
       "0    40.643696 -74.069726  New York    NY  2024-11-27  09:21:53    Fatal   \n",
       "1    40.750218 -74.120769  New York    NY  2024-07-18  18:34:33    Minor   \n",
       "2    40.528819 -73.714758  New York    NY  2024-07-27  19:02:58    Fatal   \n",
       "3    40.728429 -73.958476  New York    NY  2024-02-09  13:12:29    Minor   \n",
       "4    40.602333 -73.703020  New York    NY  2024-05-04  14:04:42    Fatal   \n",
       "..         ...        ...       ...   ...         ...       ...      ...   \n",
       "995  40.620457 -73.785646  New York    NY  2024-01-18  04:33:07    Major   \n",
       "996  40.659952 -73.785069  New York    NY  2024-07-29  01:30:26    Major   \n",
       "997  40.616832 -74.062932  New York    NY  2024-03-27  23:10:32    Fatal   \n",
       "998  40.552479 -74.036781  New York    NY  2024-01-20  20:08:57    Major   \n",
       "999  40.727479 -74.020570  New York    NY  2024-09-09  08:05:21    Minor   \n",
       "\n",
       "     Temperature_C Weather  Visibility_km           Road_Type  Lighting  \\\n",
       "0             11.7  Cloudy            2.4          Urban Road      Dusk   \n",
       "1             27.2   Clear            1.9  Residential Street      Dusk   \n",
       "2             13.6   Clear            9.8             Highway  Daylight   \n",
       "3             13.8   Clear            5.8             Highway  Daylight   \n",
       "4              6.4    Snow            0.2  Residential Street      Dawn   \n",
       "..             ...     ...            ...                 ...       ...   \n",
       "995           34.0    Snow            4.3  Residential Street      Dawn   \n",
       "996           18.2    Rain            7.4        Intersection  Daylight   \n",
       "997           12.2  Cloudy            1.9             Highway     Night   \n",
       "998            1.4  Cloudy            9.9  Residential Street  Daylight   \n",
       "999           -0.5    Snow            2.2             Highway      Dawn   \n",
       "\n",
       "     Speed_Limit_kmh  \n",
       "0                 59  \n",
       "1                 46  \n",
       "2                 57  \n",
       "3                 64  \n",
       "4                 34  \n",
       "..               ...  \n",
       "995               45  \n",
       "996               58  \n",
       "997               40  \n",
       "998               38  \n",
       "999               46  \n",
       "\n",
       "[1000 rows x 13 columns]"
      ]
     },
     "execution_count": 5,
     "metadata": {},
     "output_type": "execute_result"
    }
   ],
   "source": [
    "df"
   ]
  },
  {
   "cell_type": "code",
   "execution_count": 11,
   "id": "1a30ed2d-4133-432c-8f0b-0cd7ef59ecba",
   "metadata": {},
   "outputs": [
    {
     "name": "stderr",
     "output_type": "stream",
     "text": [
      "C:\\Users\\Diyanjali\\AppData\\Local\\Temp\\ipykernel_62012\\2694654861.py:2: UserWarning: Could not infer format, so each element will be parsed individually, falling back to `dateutil`. To ensure parsing is consistent and as-expected, please specify a format.\n",
      "  df['Hour'] = pd.to_datetime(df['Time']).dt.hour\n"
     ]
    }
   ],
   "source": [
    "df['Date']=pd.to_datetime(df['Date'])\n",
    "df['Hour'] = pd.to_datetime(df['Time']).dt.hour\n",
    "df['DayOfWeek']=df['Date'].dt.dayofweek\n",
    "df['Month'] = df['Date'].dt.month"
   ]
  },
  {
   "cell_type": "code",
   "execution_count": 13,
   "id": "a78d1bd0-66ad-49bd-b3dd-078929f99e3f",
   "metadata": {},
   "outputs": [],
   "source": [
    "x=df[['Latitude','Longitude','Hour','DayOfWeek','Month']]"
   ]
  },
  {
   "cell_type": "code",
   "execution_count": 17,
   "id": "b85a9923-67a1-4d50-b4e5-a163869647ca",
   "metadata": {},
   "outputs": [],
   "source": [
    "scaler=StandardScaler()\n",
    "x_scaled=scaler.fit_transform(x)"
   ]
  },
  {
   "cell_type": "code",
   "execution_count": 21,
   "id": "e17b33dd-01ae-47c5-9209-3bb676eaca53",
   "metadata": {},
   "outputs": [
    {
     "name": "stderr",
     "output_type": "stream",
     "text": [
      "C:\\Users\\Diyanjali\\anaconda3\\Lib\\site-packages\\sklearn\\cluster\\_kmeans.py:1429: UserWarning: KMeans is known to have a memory leak on Windows with MKL, when there are less chunks than available threads. You can avoid it by setting the environment variable OMP_NUM_THREADS=4.\n",
      "  warnings.warn(\n",
      "C:\\Users\\Diyanjali\\anaconda3\\Lib\\site-packages\\sklearn\\cluster\\_kmeans.py:1429: UserWarning: KMeans is known to have a memory leak on Windows with MKL, when there are less chunks than available threads. You can avoid it by setting the environment variable OMP_NUM_THREADS=4.\n",
      "  warnings.warn(\n",
      "C:\\Users\\Diyanjali\\anaconda3\\Lib\\site-packages\\sklearn\\cluster\\_kmeans.py:1429: UserWarning: KMeans is known to have a memory leak on Windows with MKL, when there are less chunks than available threads. You can avoid it by setting the environment variable OMP_NUM_THREADS=4.\n",
      "  warnings.warn(\n",
      "C:\\Users\\Diyanjali\\anaconda3\\Lib\\site-packages\\sklearn\\cluster\\_kmeans.py:1429: UserWarning: KMeans is known to have a memory leak on Windows with MKL, when there are less chunks than available threads. You can avoid it by setting the environment variable OMP_NUM_THREADS=4.\n",
      "  warnings.warn(\n",
      "C:\\Users\\Diyanjali\\anaconda3\\Lib\\site-packages\\sklearn\\cluster\\_kmeans.py:1429: UserWarning: KMeans is known to have a memory leak on Windows with MKL, when there are less chunks than available threads. You can avoid it by setting the environment variable OMP_NUM_THREADS=4.\n",
      "  warnings.warn(\n",
      "C:\\Users\\Diyanjali\\anaconda3\\Lib\\site-packages\\sklearn\\cluster\\_kmeans.py:1429: UserWarning: KMeans is known to have a memory leak on Windows with MKL, when there are less chunks than available threads. You can avoid it by setting the environment variable OMP_NUM_THREADS=4.\n",
      "  warnings.warn(\n",
      "C:\\Users\\Diyanjali\\anaconda3\\Lib\\site-packages\\sklearn\\cluster\\_kmeans.py:1429: UserWarning: KMeans is known to have a memory leak on Windows with MKL, when there are less chunks than available threads. You can avoid it by setting the environment variable OMP_NUM_THREADS=4.\n",
      "  warnings.warn(\n",
      "C:\\Users\\Diyanjali\\anaconda3\\Lib\\site-packages\\sklearn\\cluster\\_kmeans.py:1429: UserWarning: KMeans is known to have a memory leak on Windows with MKL, when there are less chunks than available threads. You can avoid it by setting the environment variable OMP_NUM_THREADS=4.\n",
      "  warnings.warn(\n",
      "C:\\Users\\Diyanjali\\anaconda3\\Lib\\site-packages\\sklearn\\cluster\\_kmeans.py:1429: UserWarning: KMeans is known to have a memory leak on Windows with MKL, when there are less chunks than available threads. You can avoid it by setting the environment variable OMP_NUM_THREADS=4.\n",
      "  warnings.warn(\n",
      "C:\\Users\\Diyanjali\\anaconda3\\Lib\\site-packages\\sklearn\\cluster\\_kmeans.py:1429: UserWarning: KMeans is known to have a memory leak on Windows with MKL, when there are less chunks than available threads. You can avoid it by setting the environment variable OMP_NUM_THREADS=4.\n",
      "  warnings.warn(\n"
     ]
    }
   ],
   "source": [
    "wcss = [] \n",
    "for k in range(1, 11):\n",
    "    kmeans = KMeans(n_clusters=k, random_state=42, n_init=10)  \n",
    "    kmeans.fit(x_scaled)\n",
    "    wcss.append(kmeans.inertia_)"
   ]
  },
  {
   "cell_type": "code",
   "execution_count": 23,
   "id": "c9a3a1e7-1faf-4adf-9ae2-36f48d6b1362",
   "metadata": {},
   "outputs": [
    {
     "data": {
      "image/png": "[encoded data removed]",
      "text/plain": [
       "<Figure size 640x480 with 1 Axes>"
      ]
     },
     "metadata": {},
     "output_type": "display_data"
    }
   ],
   "source": [
    "plt.plot(range(1,11),wcss,marker='o')\n",
    "plt.xlabel('Number of Clusters (K)')\n",
    "plt.ylabel('WCSS')\n",
    "plt.title('Elbow Method to Determine Optimal K')\n",
    "plt.show()"
   ]
  },
  {
   "cell_type": "code",
   "execution_count": 27,
   "id": "54c81e3c-77fd-4ebf-b87b-90f76f20542a",
   "metadata": {},
   "outputs": [
    {
     "name": "stderr",
     "output_type": "stream",
     "text": [
      "C:\\Users\\Diyanjali\\anaconda3\\Lib\\site-packages\\sklearn\\cluster\\_kmeans.py:1429: UserWarning: KMeans is known to have a memory leak on Windows with MKL, when there are less chunks than available threads. You can avoid it by setting the environment variable OMP_NUM_THREADS=4.\n",
      "  warnings.warn(\n"
     ]
    }
   ],
   "source": [
    "optimal_k=5\n",
    "kmeans=KMeans(n_clusters=optimal_k,random_state=42,n_init=10)\n",
    "df['Cluster'] = kmeans.fit_predict(x_scaled)"
   ]
  },
  {
   "cell_type": "code",
   "execution_count": 29,
   "id": "56e0bf7c-cf23-4538-8bdb-ff51d8ffed98",
   "metadata": {},
   "outputs": [
    {
     "name": "stderr",
     "output_type": "stream",
     "text": [
      "C:\\Users\\Diyanjali\\anaconda3\\Lib\\site-packages\\sklearn\\base.py:493: UserWarning: X does not have valid feature names, but StandardScaler was fitted with feature names\n",
      "  warnings.warn(\n"
     ]
    }
   ],
   "source": [
    "future_data=np.array([[40.7,-74.0,17,4,3]])\n",
    "future_data_scaled=scaler.transform(future_data)"
   ]
  },
  {
   "cell_type": "code",
   "execution_count": 35,
   "id": "16659da8-cc16-4b90-974d-27915fe8641b",
   "metadata": {},
   "outputs": [],
   "source": [
    "predicted_cluster = kmeans.predict(future_data_scaled)\n",
    "hotspot_location = kmeans.cluster_centers_[predicted_cluster[0]][:2]"
   ]
  },
  {
   "cell_type": "code",
   "execution_count": 37,
   "id": "5dcf533b-541a-45e9-b396-826e5dedb460",
   "metadata": {},
   "outputs": [
    {
     "name": "stdout",
     "output_type": "stream",
     "text": [
      "Predicted Future Accident Hotspot:[-0.50320457 -0.07304924] \n"
     ]
    }
   ],
   "source": [
    "print(f\"Predicted Future Accident Hotspot:{hotspot_location} \")"
   ]
  },
  {
   "cell_type": "code",
   "execution_count": 41,
   "id": "b096f8b0-8930-4e33-8cd8-14b072e08130",
   "metadata": {},
   "outputs": [
    {
     "data": {
      "image/png": "[encoded data removed]",
      "text/plain": [
       "<Figure size 1000x600 with 1 Axes>"
      ]
     },
     "metadata": {},
     "output_type": "display_data"
    }
   ],
   "source": [
    "plt.figure(figsize=(10,6))\n",
    "plt.scatter(df['Longitude'],df['Latitude'],c=df['Cluster'],cmap='viridis',alpha=0.5)\n",
    "plt.scatter(hotspot_location[1],hotspot_location[0],c='red',marker='x',s=200,label='Predicted Future Hotspot')\n",
    "plt.xlabel('Longitude')\n",
    "plt.ylabel('Latitude')\n",
    "plt.title('Future Traffic Accident Hotspot Prediction')\n",
    "plt.legend()\n",
    "plt.show()"
   ]
  },
  {
   "cell_type": "code",
   "execution_count": 47,
   "id": "404fc4be-6bee-4dac-9076-6ddd2d7b729b",
   "metadata": {},
   "outputs": [],
   "source": [
    "import warnings\n",
    "warnings.filterwarnings(\"ignore\", category=UserWarning)\n",
    "warnings.filterwarnings(\"ignore\", category=FutureWarning)\n",
    "warnings.filterwarnings(\"ignore\")"
   ]
  },
  {
   "cell_type": "code",
   "execution_count": null,
   "id": "db8a8b7b-5a1f-407d-8b10-b3c4907f9b33",
   "metadata": {},
   "outputs": [],
   "source": []
  }
 ],
 "metadata": {
  "kernelspec": {
   "display_name": "Python [conda env:base] *",
   "language": "python",
   "name": "conda-base-py"
  },
  "language_info": {
   "codemirror_mode": {
    "name": "ipython",
    "version": 3
   },
   "file_extension": ".py",
   "mimetype": "text/x-python",
   "name": "python",
   "nbconvert_exporter": "python",
   "pygments_lexer": "ipython3",
   "version": "3.12.7"
  }
 },
 "nbformat": 4,
 "nbformat_minor": 5
}
